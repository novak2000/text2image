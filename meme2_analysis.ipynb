{
 "cells": [
  {
   "cell_type": "code",
   "execution_count": 1,
   "metadata": {},
   "outputs": [],
   "source": [
    "from fastbook import *\n",
    "from tqdm import tqdm\n",
    "from PIL import Image"
   ]
  },
  {
   "cell_type": "code",
   "execution_count": 2,
   "metadata": {},
   "outputs": [
    {
     "name": "stderr",
     "output_type": "stream",
     "text": [
      "100%|██████████| 7/7 [00:36<00:00,  5.27s/it]\n"
     ]
    }
   ],
   "source": [
    "search_queries = [\n",
    "    'dog memes',\n",
    "    'animal memes',\n",
    "    'cat memes',\n",
    "    'funny animal memes',\n",
    "    'Cute animal memes',\n",
    "    'Classic animal memes',\n",
    "    'Pet fail memes'\n",
    "    ]\n",
    "\n",
    "all_urls = []\n",
    "\n",
    "for query in tqdm(search_queries):\n",
    "    while True:\n",
    "        try:\n",
    "            urls = search_images_ddg(query, max_images=200)\n",
    "            break\n",
    "        except:\n",
    "            print(f'refused by duckduckgo, waiting and trying again...')\n",
    "            time.sleep(2)\n",
    "    all_urls += urls"
   ]
  },
  {
   "cell_type": "code",
   "execution_count": 4,
   "metadata": {},
   "outputs": [
    {
     "name": "stdout",
     "output_type": "stream",
     "text": [
      "1400 1038\n"
     ]
    }
   ],
   "source": [
    "## remove duplicate urls\n",
    "print(len(all_urls), len(set(all_urls)))\n",
    "urls = set(all_urls)"
   ]
  },
  {
   "cell_type": "code",
   "execution_count": 5,
   "metadata": {},
   "outputs": [
    {
     "name": "stderr",
     "output_type": "stream",
     "text": [
      "1038it [00:00, 1412617.64it/s]\n",
      "1038it [01:13, 14.07it/s]\n"
     ]
    }
   ],
   "source": [
    "## download data in parallel\n",
    "\n",
    "from concurrent.futures import ThreadPoolExecutor\n",
    "from typing import Tuple,List\n",
    "\n",
    "def download(idx_url : List[Tuple[str,str]]) -> None:\n",
    "    idx,url = idx_url\n",
    "    try:\n",
    "        download_url(url, f'./meme2-images/{idx}', show_progress=False, timeout=2)\n",
    "    except:\n",
    "        pass\n",
    "\n",
    "jobs = []\n",
    "for idx,url in tqdm(enumerate(urls)):\n",
    "    jobs.append((idx,url))\n",
    "    \n",
    "with ThreadPoolExecutor(max_workers=10) as executor:\n",
    "    list(tqdm(executor.map(download, jobs)))\n"
   ]
  },
  {
   "cell_type": "code",
   "execution_count": 11,
   "metadata": {},
   "outputs": [
    {
     "data": {
      "text/html": [
       "<table><tr><td><img src='./meme2-images/0' width=150></td><td><img src='./meme2-images/1' width=150></td><td><img src='./meme2-images/2' width=150></td><td><img src='./meme2-images/3' width=150></td><td><img src='./meme2-images/4' width=150></td><td><img src='./meme2-images/5' width=150></td><td><img src='./meme2-images/6' width=150></td></tr></table>"
      ],
      "text/plain": [
       "<IPython.core.display.HTML object>"
      ]
     },
     "metadata": {},
     "output_type": "display_data"
    },
    {
     "data": {
      "text/html": [
       "<table><tr><td><img src='./meme2-images/7' width=150></td><td><img src='./meme2-images/8' width=150></td><td><img src='./meme2-images/9' width=150></td><td><img src='./meme2-images/10' width=150></td><td><img src='./meme2-images/11' width=150></td><td><img src='./meme2-images/12' width=150></td><td><img src='./meme2-images/13' width=150></td></tr></table>"
      ],
      "text/plain": [
       "<IPython.core.display.HTML object>"
      ]
     },
     "metadata": {},
     "output_type": "display_data"
    },
    {
     "data": {
      "text/html": [
       "<table><tr><td><img src='./meme2-images/14' width=150></td><td><img src='./meme2-images/15' width=150></td><td><img src='./meme2-images/16' width=150></td><td><img src='./meme2-images/17' width=150></td><td><img src='./meme2-images/18' width=150></td><td><img src='./meme2-images/19' width=150></td><td><img src='./meme2-images/20' width=150></td></tr></table>"
      ],
      "text/plain": [
       "<IPython.core.display.HTML object>"
      ]
     },
     "metadata": {},
     "output_type": "display_data"
    },
    {
     "data": {
      "text/html": [
       "<table><tr><td><img src='./meme2-images/21' width=150></td><td><img src='./meme2-images/22' width=150></td><td><img src='./meme2-images/23' width=150></td><td><img src='./meme2-images/24' width=150></td><td><img src='./meme2-images/25' width=150></td><td><img src='./meme2-images/26' width=150></td><td><img src='./meme2-images/27' width=150></td></tr></table>"
      ],
      "text/plain": [
       "<IPython.core.display.HTML object>"
      ]
     },
     "metadata": {},
     "output_type": "display_data"
    },
    {
     "data": {
      "text/html": [
       "<table><tr><td><img src='./meme2-images/28' width=150></td><td><img src='./meme2-images/29' width=150></td><td><img src='./meme2-images/30' width=150></td><td><img src='./meme2-images/31' width=150></td><td><img src='./meme2-images/32' width=150></td><td><img src='./meme2-images/33' width=150></td><td><img src='./meme2-images/34' width=150></td></tr></table>"
      ],
      "text/plain": [
       "<IPython.core.display.HTML object>"
      ]
     },
     "metadata": {},
     "output_type": "display_data"
    }
   ],
   "source": [
    "from IPython.display import display, HTML\n",
    "for idx in range(5):\n",
    "    tmp = ''\n",
    "    for j in range(7):\n",
    "        tmp+= f\"<td><img src='./meme2-images/{idx*7+j}' width=150></td>\"\n",
    "    display(HTML(f\"<table><tr>{tmp}</tr></table>\"))"
   ]
  },
  {
   "cell_type": "code",
   "execution_count": 12,
   "metadata": {},
   "outputs": [],
   "source": [
    "## laod encoder model\n",
    "from sentence_transformers import SentenceTransformer\n",
    "from tqdm import tqdm\n",
    "\n",
    "model = SentenceTransformer(\"clip-ViT-B-32\", device='cuda')"
   ]
  },
  {
   "cell_type": "code",
   "execution_count": 13,
   "metadata": {},
   "outputs": [],
   "source": [
    "def batch_encode(image_paths : str):\n",
    "    images = []\n",
    "    cleaned_paths = []\n",
    "    for path in tqdm(image_paths):\n",
    "        try:\n",
    "            images.append(Image.open(path))\n",
    "            cleaned_paths.append(path)\n",
    "        except:\n",
    "            pass\n",
    "    print(len(images), len(image_paths))\n",
    "    return model.encode(images, batch_size=1024, show_progress_bar=True), cleaned_paths\n"
   ]
  },
  {
   "cell_type": "code",
   "execution_count": 14,
   "metadata": {},
   "outputs": [
    {
     "name": "stderr",
     "output_type": "stream",
     "text": [
      "100%|██████████| 969/969 [00:00<00:00, 5958.95it/s]\n"
     ]
    },
    {
     "name": "stdout",
     "output_type": "stream",
     "text": [
      "943 969\n"
     ]
    },
    {
     "data": {
      "application/vnd.jupyter.widget-view+json": {
       "model_id": "1005015b2f5a49b1b0a01dfbbabd647c",
       "version_major": 2,
       "version_minor": 0
      },
      "text/plain": [
       "Batches:   0%|          | 0/1 [00:00<?, ?it/s]"
      ]
     },
     "metadata": {},
     "output_type": "display_data"
    },
    {
     "name": "stderr",
     "output_type": "stream",
     "text": [
      "/usr/lib/python3/dist-packages/PIL/Image.py:945: UserWarning: Palette images with Transparency expressed in bytes should be converted to RGBA images\n",
      "  warnings.warn(\n"
     ]
    },
    {
     "data": {
      "text/plain": [
       "943"
      ]
     },
     "execution_count": 14,
     "metadata": {},
     "output_type": "execute_result"
    }
   ],
   "source": [
    "## embed data\n",
    "image_paths = [path for path in glob.glob('./meme2-images/*')]\n",
    "embeddings, image_paths = batch_encode(image_paths)\n",
    "len(embeddings)"
   ]
  },
  {
   "cell_type": "code",
   "execution_count": 15,
   "metadata": {},
   "outputs": [],
   "source": [
    "from qdrant_client import QdrantClient\n",
    "from qdrant_client.http import models as rest"
   ]
  },
  {
   "cell_type": "code",
   "execution_count": 16,
   "metadata": {},
   "outputs": [
    {
     "name": "stdout",
     "output_type": "stream",
     "text": [
      "0125fbd47544a2a273aa8f684e8b2b60b7e520300051e38322a13c753b73f190\n"
     ]
    }
   ],
   "source": [
    "!docker run -d -p \"6333:6333\" -p \"6334:6334\" --name \"qdrant-db\" qdrant/qdrant:master"
   ]
  },
  {
   "cell_type": "code",
   "execution_count": 17,
   "metadata": {},
   "outputs": [
    {
     "data": {
      "text/plain": [
       "CollectionsResponse(collections=[])"
      ]
     },
     "execution_count": 17,
     "metadata": {},
     "output_type": "execute_result"
    }
   ],
   "source": [
    "client = QdrantClient('localhost')\n",
    "collections = client.get_collections()\n",
    "collections"
   ]
  },
  {
   "cell_type": "code",
   "execution_count": 18,
   "metadata": {},
   "outputs": [
    {
     "data": {
      "text/plain": [
       "True"
      ]
     },
     "execution_count": 18,
     "metadata": {},
     "output_type": "execute_result"
    }
   ],
   "source": [
    "client.recreate_collection(\n",
    "    collection_name='meme-images',\n",
    "    vectors_config=rest.VectorParams(\n",
    "        size=512,\n",
    "        distance=rest.Distance.COSINE,\n",
    "    )\n",
    ")"
   ]
  },
  {
   "cell_type": "code",
   "execution_count": 19,
   "metadata": {},
   "outputs": [],
   "source": [
    "import uuid\n",
    "meme_ids = [uuid.uuid4().hex for _ in range(len(embeddings))]\n",
    "\n",
    "assert len(embeddings) == len(image_paths)\n",
    "client.upload_collection(\n",
    "    collection_name=\"meme-images\",\n",
    "    vectors=list(embeddings),\n",
    "    payload=[{'image_path':image_path} for image_path in image_paths],\n",
    "    ids=meme_ids\n",
    ")"
   ]
  },
  {
   "cell_type": "code",
   "execution_count": 20,
   "metadata": {},
   "outputs": [
    {
     "data": {
      "text/plain": [
       "CountResult(count=943)"
      ]
     },
     "execution_count": 20,
     "metadata": {},
     "output_type": "execute_result"
    }
   ],
   "source": [
    "client.count(\"meme-images\")"
   ]
  },
  {
   "cell_type": "code",
   "execution_count": 21,
   "metadata": {},
   "outputs": [],
   "source": [
    "\n",
    "def search(query: str):\n",
    "    search_result = client.search(\n",
    "    collection_name=\"meme-images\",\n",
    "    query_vector=model.encode(query),\n",
    "    limit=3\n",
    "    )\n",
    "    print([data.score for data in search_result])\n",
    "    output_images = [data.payload['image_path'] for data in search_result]\n",
    "    images_html = \"\".join(\n",
    "        f\"<td><img src='{path}' width=400></td>\"\n",
    "        for path in output_images\n",
    "    )\n",
    "    display(HTML(f\"<table><tr>{images_html}</tr></table>\"))"
   ]
  },
  {
   "cell_type": "code",
   "execution_count": 25,
   "metadata": {},
   "outputs": [
    {
     "name": "stdout",
     "output_type": "stream",
     "text": [
      "[0.2831471, 0.2637637, 0.2617895]\n"
     ]
    },
    {
     "data": {
      "text/html": [
       "<table><tr><td><img src='./meme2-images/894' width=400></td><td><img src='./meme2-images/1019' width=400></td><td><img src='./meme2-images/875' width=400></td></tr></table>"
      ],
      "text/plain": [
       "<IPython.core.display.HTML object>"
      ]
     },
     "metadata": {},
     "output_type": "display_data"
    }
   ],
   "source": [
    "search('pixar')"
   ]
  },
  {
   "cell_type": "code",
   "execution_count": 26,
   "metadata": {},
   "outputs": [
    {
     "name": "stdout",
     "output_type": "stream",
     "text": [
      "[0.29802775, 0.29693586, 0.29271647]\n"
     ]
    },
    {
     "data": {
      "text/html": [
       "<table><tr><td><img src='./meme2-images/504' width=400></td><td><img src='./meme2-images/605' width=400></td><td><img src='./meme2-images/703' width=400></td></tr></table>"
      ],
      "text/plain": [
       "<IPython.core.display.HTML object>"
      ]
     },
     "metadata": {},
     "output_type": "display_data"
    }
   ],
   "source": [
    "search('fat cats')"
   ]
  },
  {
   "cell_type": "code",
   "execution_count": 27,
   "metadata": {},
   "outputs": [
    {
     "name": "stdout",
     "output_type": "stream",
     "text": [
      "[0.28624472, 0.28155106, 0.2798286]\n"
     ]
    },
    {
     "data": {
      "text/html": [
       "<table><tr><td><img src='./meme2-images/151' width=400></td><td><img src='./meme2-images/927' width=400></td><td><img src='./meme2-images/532' width=400></td></tr></table>"
      ],
      "text/plain": [
       "<IPython.core.display.HTML object>"
      ]
     },
     "metadata": {},
     "output_type": "display_data"
    }
   ],
   "source": [
    "search('humans')"
   ]
  },
  {
   "cell_type": "code",
   "execution_count": 28,
   "metadata": {},
   "outputs": [
    {
     "name": "stdout",
     "output_type": "stream",
     "text": [
      "[0.2883101, 0.28510135, 0.27912968]\n"
     ]
    },
    {
     "data": {
      "text/html": [
       "<table><tr><td><img src='./meme2-images/974' width=400></td><td><img src='./meme2-images/927' width=400></td><td><img src='./meme2-images/883' width=400></td></tr></table>"
      ],
      "text/plain": [
       "<IPython.core.display.HTML object>"
      ]
     },
     "metadata": {},
     "output_type": "display_data"
    }
   ],
   "source": [
    "search('shy memes')"
   ]
  }
 ],
 "metadata": {
  "kernelspec": {
   "display_name": "Python 3",
   "language": "python",
   "name": "python3"
  },
  "language_info": {
   "codemirror_mode": {
    "name": "ipython",
    "version": 3
   },
   "file_extension": ".py",
   "mimetype": "text/x-python",
   "name": "python",
   "nbconvert_exporter": "python",
   "pygments_lexer": "ipython3",
   "version": "3.10.12"
  }
 },
 "nbformat": 4,
 "nbformat_minor": 2
}
