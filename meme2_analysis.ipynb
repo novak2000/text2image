{
 "cells": [
  {
   "cell_type": "code",
   "execution_count": 1,
   "metadata": {},
   "outputs": [],
   "source": [
    "from fastbook import *\n",
    "from tqdm import tqdm\n",
    "from PIL import Image"
   ]
  },
  {
   "cell_type": "code",
   "execution_count": 2,
   "metadata": {},
   "outputs": [
    {
     "name": "stderr",
     "output_type": "stream",
     "text": [
      "100%|██████████| 7/7 [00:36<00:00,  5.21s/it]\n"
     ]
    }
   ],
   "source": [
    "search_queries = [\n",
    "    'dog memes',\n",
    "    'animal memes',\n",
    "    'cat memes',\n",
    "    'funny animal memes',\n",
    "    'Cute animal memes',\n",
    "    'Classic animal memes',\n",
    "    'Pet fail memes'\n",
    "    ]\n",
    "\n",
    "all_urls = []\n",
    "\n",
    "for query in tqdm(search_queries):\n",
    "    while True:\n",
    "        try:\n",
    "            urls = search_images_ddg(query, max_images=200)\n",
    "            break\n",
    "        except:\n",
    "            print(f'refused by duckduckgo, waiting and trying again...')\n",
    "            time.sleep(2)\n",
    "    all_urls += urls"
   ]
  },
  {
   "cell_type": "code",
   "execution_count": 3,
   "metadata": {},
   "outputs": [
    {
     "name": "stdout",
     "output_type": "stream",
     "text": [
      "1400 1058\n"
     ]
    }
   ],
   "source": [
    "## remove duplicate urls\n",
    "print(len(all_urls), len(set(all_urls)))\n",
    "urls = set(all_urls)"
   ]
  },
  {
   "cell_type": "code",
   "execution_count": 4,
   "metadata": {},
   "outputs": [
    {
     "name": "stderr",
     "output_type": "stream",
     "text": [
      "1058it [00:00, 2235553.47it/s]\n",
      "1058it [01:12, 14.58it/s]\n"
     ]
    }
   ],
   "source": [
    "## download data in parallel\n",
    "\n",
    "from concurrent.futures import ThreadPoolExecutor\n",
    "from typing import Tuple,List\n",
    "\n",
    "def download(idx_url : List[Tuple[str,str]]) -> None:\n",
    "    idx,url = idx_url\n",
    "    try:\n",
    "        download_url(url, f'./meme2-images/{idx}', show_progress=False, timeout=2)\n",
    "    except:\n",
    "        pass\n",
    "\n",
    "jobs = []\n",
    "for idx,url in tqdm(enumerate(urls)):\n",
    "    jobs.append((idx,url))\n",
    "    \n",
    "with ThreadPoolExecutor(max_workers=10) as executor:\n",
    "    list(tqdm(executor.map(download, jobs)))\n"
   ]
  },
  {
   "cell_type": "code",
   "execution_count": 21,
   "metadata": {},
   "outputs": [
    {
     "data": {
      "text/html": [
       "<td><img src='./meme2-images/0' width=150></td>"
      ],
      "text/plain": [
       "<IPython.core.display.HTML object>"
      ]
     },
     "metadata": {},
     "output_type": "display_data"
    },
    {
     "data": {
      "text/html": [
       "<td><img src='./meme2-images/1' width=150></td>"
      ],
      "text/plain": [
       "<IPython.core.display.HTML object>"
      ]
     },
     "metadata": {},
     "output_type": "display_data"
    },
    {
     "data": {
      "text/html": [
       "<td><img src='./meme2-images/2' width=150></td>"
      ],
      "text/plain": [
       "<IPython.core.display.HTML object>"
      ]
     },
     "metadata": {},
     "output_type": "display_data"
    },
    {
     "data": {
      "text/html": [
       "<td><img src='./meme2-images/3' width=150></td>"
      ],
      "text/plain": [
       "<IPython.core.display.HTML object>"
      ]
     },
     "metadata": {},
     "output_type": "display_data"
    },
    {
     "data": {
      "text/html": [
       "<td><img src='./meme2-images/4' width=150></td>"
      ],
      "text/plain": [
       "<IPython.core.display.HTML object>"
      ]
     },
     "metadata": {},
     "output_type": "display_data"
    }
   ],
   "source": [
    "from IPython.display import display, HTML\n",
    "for idx in range(5):\n",
    "    display(HTML(f\"<td><img src='./meme2-images/{idx}' width=150></td>\"))"
   ]
  },
  {
   "cell_type": "code",
   "execution_count": 7,
   "metadata": {},
   "outputs": [],
   "source": [
    "## laod encoder model\n",
    "from sentence_transformers import SentenceTransformer\n",
    "from tqdm import tqdm\n",
    "\n",
    "model = SentenceTransformer(\"clip-ViT-B-32\", device='cuda')"
   ]
  },
  {
   "cell_type": "code",
   "execution_count": 8,
   "metadata": {},
   "outputs": [],
   "source": [
    "def batch_encode(image_paths : str):\n",
    "    images = []\n",
    "    cleaned_paths = []\n",
    "    for path in tqdm(image_paths):\n",
    "        try:\n",
    "            images.append(Image.open(path))\n",
    "            cleaned_paths.append(path)\n",
    "        except:\n",
    "            pass\n",
    "    print(len(images), len(image_paths))\n",
    "    return model.encode(images, batch_size=1024, show_progress_bar=True), cleaned_paths\n"
   ]
  },
  {
   "cell_type": "code",
   "execution_count": 10,
   "metadata": {},
   "outputs": [
    {
     "name": "stderr",
     "output_type": "stream",
     "text": [
      "100%|██████████| 1024/1024 [00:00<00:00, 5187.58it/s]\n"
     ]
    },
    {
     "name": "stdout",
     "output_type": "stream",
     "text": [
      "985 1024\n"
     ]
    },
    {
     "data": {
      "application/vnd.jupyter.widget-view+json": {
       "model_id": "16f7123057b04337ab9334b657600cae",
       "version_major": 2,
       "version_minor": 0
      },
      "text/plain": [
       "Batches:   0%|          | 0/1 [00:00<?, ?it/s]"
      ]
     },
     "metadata": {},
     "output_type": "display_data"
    },
    {
     "name": "stderr",
     "output_type": "stream",
     "text": [
      "/usr/lib/python3/dist-packages/PIL/Image.py:945: UserWarning: Palette images with Transparency expressed in bytes should be converted to RGBA images\n",
      "  warnings.warn(\n"
     ]
    },
    {
     "data": {
      "text/plain": [
       "985"
      ]
     },
     "execution_count": 10,
     "metadata": {},
     "output_type": "execute_result"
    }
   ],
   "source": [
    "## embed data\n",
    "image_paths = [path for path in glob.glob('./meme2-images/*')]\n",
    "embeddings, image_paths = batch_encode(image_paths)\n",
    "len(embeddings)"
   ]
  },
  {
   "cell_type": "code",
   "execution_count": 11,
   "metadata": {},
   "outputs": [],
   "source": [
    "from qdrant_client import QdrantClient\n",
    "from qdrant_client.http import models as rest"
   ]
  },
  {
   "cell_type": "code",
   "execution_count": 12,
   "metadata": {},
   "outputs": [
    {
     "data": {
      "text/plain": [
       "CollectionsResponse(collections=[CollectionDescription(name='meme-images')])"
      ]
     },
     "execution_count": 12,
     "metadata": {},
     "output_type": "execute_result"
    }
   ],
   "source": [
    "client = QdrantClient('localhost')\n",
    "collections = client.get_collections()\n",
    "collections"
   ]
  },
  {
   "cell_type": "code",
   "execution_count": 13,
   "metadata": {},
   "outputs": [
    {
     "data": {
      "text/plain": [
       "True"
      ]
     },
     "execution_count": 13,
     "metadata": {},
     "output_type": "execute_result"
    }
   ],
   "source": [
    "client.recreate_collection(\n",
    "    collection_name='meme-images',\n",
    "    vectors_config=rest.VectorParams(\n",
    "        size=512,\n",
    "        distance=rest.Distance.COSINE,\n",
    "    )\n",
    ")"
   ]
  },
  {
   "cell_type": "code",
   "execution_count": 14,
   "metadata": {},
   "outputs": [],
   "source": [
    "import uuid\n",
    "meme_ids = [uuid.uuid4().hex for _ in range(len(embeddings))]\n",
    "\n",
    "assert len(embeddings) == len(image_paths)\n",
    "client.upload_collection(\n",
    "    collection_name=\"meme-images\",\n",
    "    vectors=list(embeddings),\n",
    "    payload=[{'image_path':image_path} for image_path in image_paths],\n",
    "    ids=meme_ids\n",
    ")"
   ]
  },
  {
   "cell_type": "code",
   "execution_count": 15,
   "metadata": {},
   "outputs": [
    {
     "data": {
      "text/plain": [
       "CountResult(count=985)"
      ]
     },
     "execution_count": 15,
     "metadata": {},
     "output_type": "execute_result"
    }
   ],
   "source": [
    "client.count(\"meme-images\")"
   ]
  },
  {
   "cell_type": "code",
   "execution_count": 16,
   "metadata": {},
   "outputs": [],
   "source": [
    "\n",
    "def search(query: str):\n",
    "    search_result = client.search(\n",
    "    collection_name=\"meme-images\",\n",
    "    query_vector=model.encode(query),\n",
    "    limit=3\n",
    "    )\n",
    "    print([data.score for data in search_result])\n",
    "    output_images = [data.payload['image_path'] for data in search_result]\n",
    "    images_html = \"\".join(\n",
    "        f\"<td><img src='{path}' width=400></td>\"\n",
    "        for path in output_images\n",
    "    )\n",
    "    display(HTML(f\"<table><tr>{images_html}</tr></table>\"))"
   ]
  },
  {
   "cell_type": "code",
   "execution_count": 17,
   "metadata": {},
   "outputs": [
    {
     "name": "stdout",
     "output_type": "stream",
     "text": [
      "[0.3084375, 0.30787122, 0.30299708]\n"
     ]
    },
    {
     "data": {
      "text/html": [
       "<table><tr><td><img src='./meme2-images/238' width=400></td><td><img src='./meme2-images/702' width=400></td><td><img src='./meme2-images/989' width=400></td></tr></table>"
      ],
      "text/plain": [
       "<IPython.core.display.HTML object>"
      ]
     },
     "metadata": {},
     "output_type": "display_data"
    }
   ],
   "source": [
    "search('dogs')"
   ]
  },
  {
   "cell_type": "code",
   "execution_count": 18,
   "metadata": {},
   "outputs": [
    {
     "name": "stdout",
     "output_type": "stream",
     "text": [
      "[0.30072117, 0.2999292, 0.29837263]\n"
     ]
    },
    {
     "data": {
      "text/html": [
       "<table><tr><td><img src='./meme2-images/428' width=400></td><td><img src='./meme2-images/435' width=400></td><td><img src='./meme2-images/962' width=400></td></tr></table>"
      ],
      "text/plain": [
       "<IPython.core.display.HTML object>"
      ]
     },
     "metadata": {},
     "output_type": "display_data"
    }
   ],
   "source": [
    "search('cats')"
   ]
  },
  {
   "cell_type": "code",
   "execution_count": 19,
   "metadata": {},
   "outputs": [
    {
     "name": "stdout",
     "output_type": "stream",
     "text": [
      "[0.28624472, 0.28158134, 0.28155106]\n"
     ]
    },
    {
     "data": {
      "text/html": [
       "<table><tr><td><img src='./meme2-images/196' width=400></td><td><img src='./meme2-images/110' width=400></td><td><img src='./meme2-images/325' width=400></td></tr></table>"
      ],
      "text/plain": [
       "<IPython.core.display.HTML object>"
      ]
     },
     "metadata": {},
     "output_type": "display_data"
    }
   ],
   "source": [
    "search('humans')"
   ]
  },
  {
   "cell_type": "code",
   "execution_count": 29,
   "metadata": {},
   "outputs": [
    {
     "name": "stdout",
     "output_type": "stream",
     "text": [
      "[0.29159823, 0.2883101, 0.28807914]\n"
     ]
    },
    {
     "data": {
      "text/html": [
       "<table><tr><td><img src='./meme2-images/699' width=400></td><td><img src='./meme2-images/390' width=400></td><td><img src='./meme2-images/962' width=400></td></tr></table>"
      ],
      "text/plain": [
       "<IPython.core.display.HTML object>"
      ]
     },
     "metadata": {},
     "output_type": "display_data"
    }
   ],
   "source": [
    "search('shy memes')"
   ]
  }
 ],
 "metadata": {
  "kernelspec": {
   "display_name": "Python 3",
   "language": "python",
   "name": "python3"
  },
  "language_info": {
   "codemirror_mode": {
    "name": "ipython",
    "version": 3
   },
   "file_extension": ".py",
   "mimetype": "text/x-python",
   "name": "python",
   "nbconvert_exporter": "python",
   "pygments_lexer": "ipython3",
   "version": "3.10.12"
  }
 },
 "nbformat": 4,
 "nbformat_minor": 2
}
